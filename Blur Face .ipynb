{
 "cells": [
  {
   "cell_type": "code",
   "execution_count": 1,
   "id": "924d69f0",
   "metadata": {},
   "outputs": [],
   "source": [
    "import cv2\n",
    "import pyttsx3"
   ]
  },
  {
   "cell_type": "code",
   "execution_count": 2,
   "id": "5f476c14",
   "metadata": {},
   "outputs": [],
   "source": [
    "model = cv2.CascadeClassifier('haarcascade.xml')"
   ]
  },
  {
   "cell_type": "code",
   "execution_count": 5,
   "id": "db809b45",
   "metadata": {},
   "outputs": [],
   "source": [
    "cap = cv2.VideoCapture(1)\n",
    "while True:\n",
    "    ret, photo = cap.read()\n",
    "    face_detect = model.detectMultiScale(photo) \n",
    "    if len(face_detect)==0:\n",
    "        print(\"No face Found\")\n",
    "    else:\n",
    "        cv2.imwrite(\"Orignal Picutre.jpeg\", photo)\n",
    "                                      \n",
    "        for x, y, x1, y1 in face_detect:\n",
    "            Npic = cv2.rectangle(photo, (x,y), (x+1, y+y1), (0,0,0),1)\n",
    "#             Npic[y:y+y1 ,x:x+x1] = cv2.medianBlur(Npic[y:y+y1 ,x:x+x1],15) \n",
    "            Npic[y:y+y1 ,x:x+x1] = cv2.GaussianBlur(Npic[y:y+y1 ,x:x+x1],(3,33), 25) \n",
    "        \n",
    "        cv2.imshow(\"Personalized Window\", Npic)\n",
    "        if cv2.waitKey(1)==13:\n",
    "            cv2.imwrite(\"Blurred_Face.jpeg\", Npic)\n",
    "            pyttsx3.speak(\"Blurred Face Image Save\")\n",
    "            break\n",
    "cv2.destroyAllWindows()\n",
    "cap.release()\n",
    "    "
   ]
  },
  {
   "cell_type": "code",
   "execution_count": null,
   "id": "48116f68",
   "metadata": {},
   "outputs": [],
   "source": [
    "cv2.destroyAllWindows()\n",
    "cap.release()"
   ]
  },
  {
   "cell_type": "code",
   "execution_count": null,
   "id": "ecabca22",
   "metadata": {},
   "outputs": [],
   "source": []
  }
 ],
 "metadata": {
  "kernelspec": {
   "display_name": "Python 3 (ipykernel)",
   "language": "python",
   "name": "python3"
  },
  "language_info": {
   "codemirror_mode": {
    "name": "ipython",
    "version": 3
   },
   "file_extension": ".py",
   "mimetype": "text/x-python",
   "name": "python",
   "nbconvert_exporter": "python",
   "pygments_lexer": "ipython3",
   "version": "3.9.4"
  }
 },
 "nbformat": 4,
 "nbformat_minor": 5
}
